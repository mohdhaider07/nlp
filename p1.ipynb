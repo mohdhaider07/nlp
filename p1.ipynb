from sklearn.feature_extraction.text import CountVectorizer
from sklearn.naive_bayes import MultinomialNB
from sklearn.model_selection import train_test_split
from sklearn.metrics import accuracy_score

# Sample data - replace with your dataset
X = ["I love this movie", "This movie is boring", "Great movie, I enjoyed it"]
y = ["positive", "negative", "positive"]

# Split data into train and test sets
X_train, X_test, y_train, y_test = train_test_split(X, y, test_size=0.2, random_state=42)

# Feature extraction
vectorizer = CountVectorizer()
X_train_vec = vectorizer.fit_transform(X_train)
X_test_vec = vectorizer.transform(X_test)

# Train Naive Bayes classifier
classifier = MultinomialNB()
classifier.fit(X_train_vec, y_train)

# Predictions
predictions = classifier.predict(X_test_vec)

# Accuracy
accuracy = accuracy_score(y_test, predictions)
print("Accuracy:", accuracy)
